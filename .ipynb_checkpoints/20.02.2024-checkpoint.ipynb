{
 "cells": [
  {
   "cell_type": "markdown",
   "id": "d744e1e1-2ee9-49fb-8431-cc2bf4db93e5",
   "metadata": {},
   "source": [
    "### Gas Station"
   ]
  },
  {
   "cell_type": "code",
   "execution_count": null,
   "id": "3f731d57-2792-404a-a6de-0f7a929f1645",
   "metadata": {},
   "outputs": [],
   "source": [
    "import numpy as np"
   ]
  },
  {
   "cell_type": "code",
   "execution_count": null,
   "id": "fd0d0406-4d7d-4947-a898-90c916edb1ad",
   "metadata": {},
   "outputs": [],
   "source": [
    "gas = np.array([1,2,3,4,5])\n",
    "cost = np.array([3,4,5,1,2])\n"
   ]
  },
  {
   "cell_type": "code",
   "execution_count": null,
   "id": "f81e67ff-d40f-46d3-a88f-0ce166e464e6",
   "metadata": {},
   "outputs": [],
   "source": [
    "def func(gas, cost):\n",
    "    "
   ]
  },
  {
   "cell_type": "code",
   "execution_count": null,
   "id": "ea92b99b-6b4f-4958-9563-8cb1b86b7bef",
   "metadata": {},
   "outputs": [],
   "source": [
    "gas = [5,1,2,3,4]\n",
    "cost = [4,4,1,5,1]\n"
   ]
  },
  {
   "cell_type": "code",
   "execution_count": null,
   "id": "df41ab0d-f051-4d28-a458-b0532cf2ff29",
   "metadata": {},
   "outputs": [],
   "source": [
    "hashmap= {}\n",
    "\n",
    "i = 0\n",
    "remainder_gas = 0 \n",
    "count1 = 0\n",
    "while True:\n",
    "    print(hashmap)\n",
    "    if i==len(gas):\n",
    "        i = 0\n",
    "    print(i)\n",
    "    count1 +=1\n",
    "    if count1> 20:\n",
    "        break\n",
    "    remainder_gas += gas[i]- cost[i]\n",
    "    print(\"remainder_gas: \", remainder_gas)\n",
    "    if remainder_gas<0:\n",
    "        remainder_gas= 0\n",
    "        if i in hashmap:\n",
    "            print(\"meh\")\n",
    "            break\n",
    "        else:\n",
    "            hashmap[i] = False\n",
    "    else:\n",
    "        if i not in hashmap:\n",
    "            hashmap[i] = True\n",
    "        else: \n",
    "            if hashmap[i] == False:\n",
    "                hashmap[i] = True\n",
    "            else:\n",
    "                print(\"yo: \", i)\n",
    "                break\n",
    "    i+=1"
   ]
  },
  {
   "cell_type": "markdown",
   "id": "0e0429fc-a314-4476-9e2c-12d737f03428",
   "metadata": {},
   "source": [
    "Roman to integer"
   ]
  },
  {
   "cell_type": "code",
   "execution_count": null,
   "id": "b3f31f50-a1ef-4aa0-9cc2-4a309eeb7d15",
   "metadata": {},
   "outputs": [],
   "source": [
    "hashmap = {\n",
    "\"I\"      :       1,\n",
    "\"V\"     :       5,\n",
    "\"X\"    :         10,\n",
    "\"L\"   :          50,\n",
    "\"C\"  :           100,\n",
    "\"D\" :            500,\n",
    "\"M\":             1000,\n",
    "}\n"
   ]
  },
  {
   "cell_type": "code",
   "execution_count": null,
   "id": "f1613aa3-b864-423a-98ef-692d24ee6c82",
   "metadata": {},
   "outputs": [],
   "source": [
    "class Solution(object):\n",
    "    \n",
    "    def romanToInt(self, s):\n",
    "        \"\"\"\n",
    "        :type s: str\n",
    "        :rtype: int\n",
    "        \"\"\"\n",
    "        hashmap = {\n",
    "        \"I\"      :       1,\n",
    "        \"V\"     :       5,\n",
    "        \"X\"    :         10,\n",
    "        \"L\"   :          50,\n",
    "        \"C\"  :           100,\n",
    "        \"D\" :            500,\n",
    "        \"M\":             1000,\n",
    "        }\n",
    "        sum = 0\n",
    "        i = 0\n",
    "        while i < len(s):\n",
    "            if i+1 < len(s) and hashmap[s[i]] < hashmap[s[i+1]] :\n",
    "                sum += hashmap[s[i+1]] - hashmap[s[i]]\n",
    "                i += 2\n",
    "            else:\n",
    "                sum += hashmap[s[i]]\n",
    "                i +=1\n",
    "        return sum"
   ]
  },
  {
   "cell_type": "markdown",
   "id": "2e52b250-9e20-431f-8a75-2c909e7aef99",
   "metadata": {},
   "source": [
    "### Merge Sorted Arrays"
   ]
  },
  {
   "cell_type": "code",
   "execution_count": null,
   "id": "2ee63f76-85c1-4471-aa74-1268bbd1646f",
   "metadata": {},
   "outputs": [],
   "source": [
    "class Solution(object):\n",
    "    def merge(self, nums1, m, nums2, n):\n",
    "        \"\"\"\n",
    "        :type nums1: List[int]\n",
    "        :type m: int\n",
    "        :type nums2: List[int]\n",
    "        :type n: int\n",
    "        :rtype: None Do not return anything, modify nums1 in-place instead.\n",
    "        \"\"\"\n",
    "        if n == 0:\n",
    "            return nums1\n",
    "        if m == 0:\n",
    "            for i in range(len(nums1)):\n",
    "                nums1[i] = nums2[i]\n",
    "            return nums1\n",
    "        i = m-1\n",
    "        j = len(nums1)-1\n",
    "        while i>=0:\n",
    "            nums1[j] = nums1[i]\n",
    "            j -=1\n",
    "            i-=1\n",
    "        k = 0 \n",
    "        j = 0 \n",
    "        i = n \n",
    "        while i < len(nums1) and j<len(nums2):\n",
    "            if nums1[i]<= nums2[j]:\n",
    "                nums1[k] = nums1[i]\n",
    "                i +=1\n",
    "            else:\n",
    "                nums1[k] = nums2[j]\n",
    "                j +=1\n",
    "            k+=1\n",
    "            \n",
    "        while j<len(nums2):\n",
    "            nums1[k] = nums2[j]\n",
    "            j +=1\n",
    "            k +=1\n",
    "        return nums1"
   ]
  },
  {
   "cell_type": "code",
   "execution_count": null,
   "id": "ca2a1ca5-94d3-44df-b15a-22e9c415b3f8",
   "metadata": {},
   "outputs": [],
   "source": [
    "obj = Solution()"
   ]
  },
  {
   "cell_type": "code",
   "execution_count": null,
   "id": "ccd48e8f-c9dd-4090-a8b8-91fe13b81ccc",
   "metadata": {},
   "outputs": [],
   "source": [
    "nums1 = [0,0,0,0,0]\n",
    "m = 0\n",
    "nums2 = [1,2,3,4,5]\n",
    "n = 5"
   ]
  },
  {
   "cell_type": "code",
   "execution_count": null,
   "id": "19d5c329-224f-4e9f-86d2-9d21a712344a",
   "metadata": {},
   "outputs": [],
   "source": [
    "obj.merge(nums1, m ,nums2, n)"
   ]
  },
  {
   "cell_type": "markdown",
   "id": "ac595444-32d6-4ec4-bd7c-09fd9c97464a",
   "metadata": {},
   "source": [
    "## Remove Duplicate Elements"
   ]
  },
  {
   "cell_type": "code",
   "execution_count": null,
   "id": "9ac38152-22c1-49dc-8242-550649657995",
   "metadata": {},
   "outputs": [],
   "source": [
    "from collections import OrderedDict\n",
    "\n"
   ]
  },
  {
   "cell_type": "code",
   "execution_count": null,
   "id": "19af0455-6fd7-45a9-b020-f987ec6bfd80",
   "metadata": {},
   "outputs": [],
   "source": [
    "my_ordered_set = OrderedDict.fromkeys(nums)\n",
    "my_ordered_set = [i for i in my_ordered_set]\n",
    "k = len(my_ordered_set)"
   ]
  },
  {
   "cell_type": "code",
   "execution_count": null,
   "id": "6ce1686c-6424-47e6-8b07-1ee7a07d4556",
   "metadata": {},
   "outputs": [],
   "source": [
    "for i in range(k):\n",
    "    nums[i] = my_ordered_set[i]"
   ]
  },
  {
   "cell_type": "code",
   "execution_count": null,
   "id": "77fbf3ae-a606-4cb6-9a98-0357e2a02fb6",
   "metadata": {},
   "outputs": [],
   "source": [
    "nums"
   ]
  },
  {
   "cell_type": "code",
   "execution_count": null,
   "id": "3e54bdf3-ba51-4711-af10-c8439c9ca4eb",
   "metadata": {},
   "outputs": [],
   "source": [
    "nums = [-1,0,0,0,0,3,3]"
   ]
  },
  {
   "cell_type": "markdown",
   "id": "3d572118-f135-4fbe-ba0f-6b2571f11e7e",
   "metadata": {},
   "source": [
    "### Longest unique Substring "
   ]
  },
  {
   "cell_type": "code",
   "execution_count": 24,
   "id": "ad9da658-565b-4899-827e-5b08ac8442de",
   "metadata": {},
   "outputs": [],
   "source": [
    "s = \"pwwwke\""
   ]
  },
  {
   "cell_type": "code",
   "execution_count": 22,
   "id": "a111621a-f44e-477c-8578-d53ed8247214",
   "metadata": {},
   "outputs": [
    {
     "name": "stdout",
     "output_type": "stream",
     "text": [
      "set()\n",
      "p\n",
      "{'p'}\n",
      "pw\n",
      "{'p', 'w'}\n",
      "{'p'}\n",
      "{'p', 'w'}\n",
      "{'p'}\n",
      "{'p', 'w'}\n",
      "wwk\n",
      "{'p', 'w', 'k'}\n",
      "wwke\n"
     ]
    }
   ],
   "source": [
    "left = 0\n",
    "right = 0\n",
    "unique_character_list = set()\n",
    "max_length=0 \n",
    "current_length = 0\n",
    "\n",
    "while right<len(s):\n",
    "    print(unique_character_list)\n",
    "    current_length = right- left +1\n",
    "    if s[right] not in unique_character_list:\n",
    "        if max_length < current_length:\n",
    "            print(s[left:right+1])\n",
    "            max_length = current_length\n",
    "        unique_character_list.add(s[right])\n",
    "        right +=1  \n",
    "    else:\n",
    "        unique_character_list.remove(s[right])\n",
    "        left += 1\n"
   ]
  },
  {
   "cell_type": "code",
   "execution_count": 23,
   "id": "af97ef1c-d533-4181-b05d-9a66a6cdf6cd",
   "metadata": {},
   "outputs": [
    {
     "data": {
      "text/plain": [
       "4"
      ]
     },
     "execution_count": 23,
     "metadata": {},
     "output_type": "execute_result"
    }
   ],
   "source": [
    "max_length"
   ]
  },
  {
   "cell_type": "markdown",
   "id": "8193eb4a-2922-424c-860a-fb677f2e8a5d",
   "metadata": {},
   "source": [
    "### Integer to Roman"
   ]
  },
  {
   "cell_type": "code",
   "execution_count": 25,
   "id": "75b931da-62bc-4d6b-bfc7-e47a07c4bc10",
   "metadata": {},
   "outputs": [],
   "source": [
    "class Solution(object):\n",
    "    def intToRoman(self, num):\n",
    "        \"\"\"\n",
    "        :type num: int\n",
    "        :rtype: str\n",
    "        \"\"\"\n",
    "        ones = [\"\",\"I\",\"II\",\"III\",\"IV\",\"V\",\"VI\",\"VII\",\"VIII\",\"IX\"]  \n",
    "        tens = [\"\",\"X\",\"XX\",\"XXX\",\"XL\",\"L\",\"LX\",\"LXX\",\"LXXX\",\"XC\"]\n",
    "        hrns = [\"\",\"C\",\"CC\",\"CCC\",\"CD\",\"D\",\"DC\",\"DCC\",\"DCCC\",\"CM\"]\n",
    "        ths = [\"\",\"M\",\"MM\",\"MMM\"]\n",
    "        results =  ths[num/1000]+ hrns[(num/100)%10] + tens[(num/10)%10] + ones[num%10]\n",
    "        return results"
   ]
  },
  {
   "cell_type": "code",
   "execution_count": null,
   "id": "83cfb4f6-4854-4a2f-a6b7-9f16ab343219",
   "metadata": {},
   "outputs": [],
   "source": []
  }
 ],
 "metadata": {
  "kernelspec": {
   "display_name": "Python 3 (ipykernel)",
   "language": "python",
   "name": "python3"
  },
  "language_info": {
   "codemirror_mode": {
    "name": "ipython",
    "version": 3
   },
   "file_extension": ".py",
   "mimetype": "text/x-python",
   "name": "python",
   "nbconvert_exporter": "python",
   "pygments_lexer": "ipython3",
   "version": "3.10.6"
  }
 },
 "nbformat": 4,
 "nbformat_minor": 5
}
