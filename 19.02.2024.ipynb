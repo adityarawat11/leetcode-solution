{
 "cells": [
  {
   "cell_type": "markdown",
   "id": "e494885c-e346-4ee0-a94e-ec85063ae125",
   "metadata": {},
   "source": [
    "### find common prefix between two strings"
   ]
  },
  {
   "cell_type": "code",
   "execution_count": null,
   "id": "de6555c7-5388-4a80-99b2-7b1d4d2d3f33",
   "metadata": {},
   "outputs": [],
   "source": [
    "class Solution(object):\n",
    "    def common_prefix(self, string1, string2):\n",
    "        i = 0 \n",
    "        j = 0\n",
    "        prefix = \"\"\n",
    "        while i< len(string1) and j<len(string2):\n",
    "            if string1[i]== string2[j]:\n",
    "                prefix += string1[i]\n",
    "                i+=1\n",
    "                j+=1\n",
    "            else:\n",
    "                break\n",
    "        return prefix\n",
    "    def longestCommonPrefix(self, strs):\n",
    "        if len(strs)<2:\n",
    "            return strs[0]\n",
    "        prefix = self.common_prefix(strs[0], strs[1])\n",
    "        for word in strs[2:]:\n",
    "            prefix = self.common_prefix(prefix, word)\n",
    "            if prefix == \"\":\n",
    "                return \"\"\n",
    "        return prefix"
   ]
  },
  {
   "cell_type": "markdown",
   "id": "c87f2dda-d13a-4b71-839e-b621817468d7",
   "metadata": {},
   "source": [
    "### Zigzag Conversion"
   ]
  },
  {
   "cell_type": "code",
   "execution_count": null,
   "id": "bbe2c28f-2bcd-47a3-9965-f52469f0f533",
   "metadata": {},
   "outputs": [],
   "source": [
    "s = \"PAYPALISHIRING\"\n",
    "numRows = 3"
   ]
  },
  {
   "cell_type": "code",
   "execution_count": null,
   "id": "79eecaa4-1fd6-4bf6-9d3b-2d0951c9f2ff",
   "metadata": {},
   "outputs": [],
   "source": [
    "counter = 1 \n",
    "increase = True\n",
    "hashmap= {}\n",
    "for i in range(len(s)):\n",
    "    if counter not in hashmap:\n",
    "        hashmap[counter] = s[i]\n",
    "    else:\n",
    "        hashmap[counter] += s[i]\n",
    "    if counter==1:\n",
    "        increase=True\n",
    "    if counter == numRows:\n",
    "        increase = False\n",
    "    if increase:\n",
    "        counter +=1\n",
    "    else:\n",
    "        counter -=1\n",
    "return \"\".join([i for i in hashmap.values()])\n",
    "    \n",
    "    "
   ]
  },
  {
   "cell_type": "code",
   "execution_count": null,
   "id": "c02df323-5ce2-4fb8-9723-d39b579eeb07",
   "metadata": {},
   "outputs": [],
   "source": []
  },
  {
   "cell_type": "code",
   "execution_count": null,
   "id": "bd623bdc-a299-41db-83f9-78493c9e31e9",
   "metadata": {},
   "outputs": [],
   "source": []
  },
  {
   "cell_type": "code",
   "execution_count": null,
   "id": "2c65e1e2-a65a-4a6e-92fe-6b0b8f0d2120",
   "metadata": {},
   "outputs": [],
   "source": []
  },
  {
   "cell_type": "markdown",
   "id": "afddb324-fa57-4d78-b544-b6e1e7d464b8",
   "metadata": {},
   "source": [
    "Decorator"
   ]
  },
  {
   "cell_type": "code",
   "execution_count": null,
   "id": "7cd20f3d-0c51-4d03-b405-e72ba2dbc61a",
   "metadata": {},
   "outputs": [],
   "source": [
    "import inspect"
   ]
  },
  {
   "cell_type": "code",
   "execution_count": null,
   "id": "55e46d54-b891-4145-b02f-1ce28c631386",
   "metadata": {},
   "outputs": [],
   "source": [
    "from typing import Any, Dict"
   ]
  },
  {
   "cell_type": "code",
   "execution_count": null,
   "id": "475413d7-8606-4995-b37d-ad0ddd2113c6",
   "metadata": {},
   "outputs": [],
   "source": [
    "from yacs.config import CfgNode as CN\n",
    "from src.config import get_default_cfg"
   ]
  },
  {
   "cell_type": "code",
   "execution_count": null,
   "id": "46078e2e-494e-4b5a-af88-31b154117464",
   "metadata": {},
   "outputs": [],
   "source": [
    "\n",
    "def get_input(\n",
    "        signature: inspect.Signature, *args: Any, **kwargs: Any\n",
    ") -> Dict[str, Any]:\n",
    "    \"\"\"Return a dictionary of inputs from the function signature.\"\"\"\n",
    "    bound = signature.bind_partial(*args, **kwargs)\n",
    "    bound.apply_defaults()\n",
    "    arguments = dict(bound.arguments)\n",
    "    arguments.pop(\"self\", None)\n",
    "    arguments.pop(\"cls\", None)\n",
    "    for param_name, param in signature.parameters.items():\n",
    "        if param.kind == inspect.Parameter.VAR_KEYWORD:\n",
    "            # Update with the **kwargs, and remove the original entry\n",
    "            # This is to help flatten out keyword arguments\n",
    "            if param_name in arguments:\n",
    "                arguments.update(arguments[param_name])\n",
    "                arguments.pop(param_name)\n",
    "    \n",
    "    for key, value in arguments.items():\n",
    "        if isinstance(value, CN):\n",
    "            arguments[key] = \"[REDACTED]\"\n",
    "    return arguments"
   ]
  },
  {
   "cell_type": "code",
   "execution_count": null,
   "id": "3f89792a-6999-46ee-8cce-8d819d7a4dc7",
   "metadata": {},
   "outputs": [],
   "source": [
    "def my_decorator(func):\n",
    "    def wrapper(*args, **kwargs):\n",
    "        signature = inspect.signature(func)\n",
    "        inputs = get_input(signature, *args, **kwargs)\n",
    "        print(inputs)\n",
    "        return 1\n",
    "    return wrapper\n"
   ]
  },
  {
   "cell_type": "code",
   "execution_count": null,
   "id": "ca2c8479-8bbe-49a5-ab3c-73da91fc2f9d",
   "metadata": {},
   "outputs": [],
   "source": [
    "@my_decorator\n",
    "def myfunc(cfg: CN, email: int):\n",
    "    print(\"hey\")\n",
    "    return \"1\""
   ]
  },
  {
   "cell_type": "markdown",
   "id": "27365ce8-6661-4963-9b17-5554770bbb64",
   "metadata": {},
   "source": [
    "Best Time to Buy and Sell Stock"
   ]
  },
  {
   "cell_type": "code",
   "execution_count": null,
   "id": "658d42dd-49ca-46bc-bb53-8e79ec404d91",
   "metadata": {},
   "outputs": [],
   "source": [
    "cfg = get_default_cfg()"
   ]
  },
  {
   "cell_type": "code",
   "execution_count": null,
   "id": "36188e5a-fa33-4238-b54b-6776f4953fd0",
   "metadata": {},
   "outputs": [],
   "source": [
    "def uniquePaths(m, n):\n",
    "    \"\"\"\n",
    "    :type m: int\n",
    "    :type n: int\n",
    "    :rtype: int\n",
    "    \"\"\"\n",
    "    if m ==1 and n==1:\n",
    "        return 1\n",
    "    if m<1 or n<1:\n",
    "        return 0\n",
    "    return uniquePaths(m-1, n) + uniquePaths(m, n-1)"
   ]
  },
  {
   "cell_type": "code",
   "execution_count": null,
   "id": "9e0ceb1a-57a8-4020-8258-fab0b900fea3",
   "metadata": {},
   "outputs": [],
   "source": [
    "uniquePaths(3,7)"
   ]
  },
  {
   "cell_type": "code",
   "execution_count": null,
   "id": "71279cbf-7ba7-4401-a7c3-c263bea25444",
   "metadata": {},
   "outputs": [],
   "source": [
    "def uniquePaths(m, n, memo = {}):\n",
    "    \"\"\"\n",
    "    :type m: int\n",
    "    :type n: int\n",
    "    :rtype: int\n",
    "    \"\"\"\n",
    "    print(memo)\n",
    "    key = str(m) +\",\"+ str(n)\n",
    "    if key in memo:\n",
    "        return memo[key]\n",
    "    if m ==1 and n==1:\n",
    "        return 1\n",
    "    if not m or not n:\n",
    "        return 0\n",
    "    memo[key] = uniquePaths(m-1, n, memo) + uniquePaths(m, n-1, memo)\n",
    "    return memo[key]"
   ]
  },
  {
   "cell_type": "markdown",
   "id": "7bcc0aee-ce91-4635-9bbc-2fffc8922b8e",
   "metadata": {},
   "source": [
    "## Search in Rotated Sorted Array"
   ]
  },
  {
   "cell_type": "markdown",
   "id": "6cf31128-c471-4a2b-b66d-e054aa5c8e38",
   "metadata": {},
   "source": [
    "Binary Search "
   ]
  },
  {
   "cell_type": "code",
   "execution_count": 33,
   "id": "083ff3b9-d457-45c1-8c52-068a983f067e",
   "metadata": {},
   "outputs": [],
   "source": [
    "def search(nums, target):\n",
    "    \"\"\"\n",
    "    :type nums: List[int]\n",
    "    :type target: int\n",
    "    :rtype: int\n",
    "    \"\"\"\n",
    "    beg = 0\n",
    "    end = len(nums) -1 \n",
    "    while beg <= end:\n",
    "        mid = beg + (end- beg) // 2\n",
    "        if nums[mid] == target:\n",
    "            return mid\n",
    "        if target> nums[mid]:\n",
    "            beg = mid+1\n",
    "        else:\n",
    "            end = mid-1\n",
    "    return -1\n"
   ]
  },
  {
   "cell_type": "markdown",
   "id": "3cb9e6ce-c091-46be-8706-5627272178c0",
   "metadata": {},
   "source": [
    "Now search in a sorted Array"
   ]
  },
  {
   "cell_type": "code",
   "execution_count": 34,
   "id": "ce3e8936-dbba-4a7c-a82d-340a171392e1",
   "metadata": {},
   "outputs": [],
   "source": [
    "def find_pivot(nums):\n",
    "    beg = 0\n",
    "    end = len(nums)-1\n",
    "    while beg<=end:\n",
    "        mid = beg + (end -beg) //2\n",
    "        if mid == len(nums) -1:\n",
    "            break\n",
    "        if nums[mid]> nums[mid+1]:\n",
    "            return mid\n",
    "        if nums[beg]<= nums[mid]:\n",
    "            beg = mid+1\n",
    "        else:\n",
    "            end= mid- 1\n",
    "    return -1 "
   ]
  },
  {
   "cell_type": "code",
   "execution_count": 66,
   "id": "1d9c8ee7-1311-4c21-b133-f40ae057b4d7",
   "metadata": {},
   "outputs": [],
   "source": [
    "def sorted_search(nums, target):\n",
    "    \"\"\"\n",
    "    :type nums: List[int]\n",
    "    :type target: int\n",
    "    :rtype: int\n",
    "    \"\"\"\n",
    "    pivot_index = find_pivot(nums)\n",
    "    print(pivot_index)\n",
    "    if pivot_index == -1:\n",
    "        return search(nums, target)\n",
    "    if target == nums[pivot_index] :\n",
    "        return pivot_index\n",
    "    if target>=nums[0]:\n",
    "        return search(nums[0:pivot_index+1], target)\n",
    "    else:\n",
    "        index = search(nums[pivot_index+1:], target)\n",
    "        if index == -1:\n",
    "            return -1\n",
    "        else:\n",
    "            return pivot_index + index+ 1\n",
    "    "
   ]
  },
  {
   "cell_type": "code",
   "execution_count": 67,
   "id": "d69f0ef2-7cf9-4e04-a551-584e087d555e",
   "metadata": {},
   "outputs": [
    {
     "name": "stdout",
     "output_type": "stream",
     "text": [
      "0\n"
     ]
    },
    {
     "data": {
      "text/plain": [
       "1"
      ]
     },
     "execution_count": 67,
     "metadata": {},
     "output_type": "execute_result"
    }
   ],
   "source": [
    "sorted_search([3,1], 1)"
   ]
  },
  {
   "cell_type": "code",
   "execution_count": 68,
   "id": "cec5e1db-7cdf-4d0f-b53d-b333de176aca",
   "metadata": {},
   "outputs": [
    {
     "name": "stdout",
     "output_type": "stream",
     "text": [
      "3\n"
     ]
    },
    {
     "data": {
      "text/plain": [
       "4"
      ]
     },
     "execution_count": 68,
     "metadata": {},
     "output_type": "execute_result"
    }
   ],
   "source": [
    "sorted_search([4,5,6,7,0,1,2], 0)"
   ]
  },
  {
   "cell_type": "code",
   "execution_count": 69,
   "id": "598c9a0f-6f75-4d4c-8587-cca8440708d7",
   "metadata": {},
   "outputs": [],
   "source": []
  },
  {
   "cell_type": "code",
   "execution_count": 71,
   "id": "f85b9764-2009-44b7-9a5e-275096a664a9",
   "metadata": {},
   "outputs": [],
   "source": [
    "import numpy as np"
   ]
  },
  {
   "cell_type": "code",
   "execution_count": 73,
   "id": "f298aa68-75af-419b-8562-1ee0e8d21592",
   "metadata": {},
   "outputs": [],
   "source": []
  },
  {
   "cell_type": "code",
   "execution_count": 146,
   "id": "8f44d1a1-f2ca-4793-a434-035bca58e2fb",
   "metadata": {},
   "outputs": [],
   "source": [
    "def uniquepaths(m,n, grid, memo = {}):\n",
    "    key = str(m)  + \",\"+ str(n)\n",
    "    if key in memo:\n",
    "        return memo[key]\n",
    "    rows, cols = grid.shape\n",
    "    if m==1 and n==1:\n",
    "        return grid[rows - m][cols -n] ^ 1\n",
    "    if  m < 1  or n< 1:\n",
    "        return 0\n",
    "    if grid[rows - m][cols -n] == 1:\n",
    "        return 0 \n",
    "    memo[key] = uniquepaths(m-1, n, grid, memo) +  uniquepaths(m, n-1, grid, memo) \n",
    "    return memo[key]\n",
    "        \n",
    "    "
   ]
  },
  {
   "cell_type": "code",
   "execution_count": 174,
   "id": "568d46ae-c1ca-467e-8641-9d4acb22191f",
   "metadata": {},
   "outputs": [],
   "source": [
    "grid = [[0,1],[0,0]]\n",
    "grid = np.array(grid)\n",
    "rows, cols = grid.shape"
   ]
  },
  {
   "cell_type": "code",
   "execution_count": 230,
   "id": "536fd052-68f8-47e4-bbf7-02d686cfae0d",
   "metadata": {},
   "outputs": [],
   "source": [
    "class Solution(object):\n",
    "    def uniquepaths1(self, m,n, grid, memo = {}):\n",
    "        print(memo)\n",
    "        key = str(m)  + \",\"+ str(n)\n",
    "        if key in memo:\n",
    "            return memo[key]\n",
    "        rows, cols = grid.shape\n",
    "        if m==1 and n==1:\n",
    "            return grid[rows - m][cols -n] ^ 1\n",
    "        if  m < 1  or n< 1:\n",
    "            return 0\n",
    "        if grid[rows - m][cols -n] == 1:\n",
    "            return 0 \n",
    "        memo[key] = self.uniquepaths1(m-1, n, grid, memo) +  self.uniquepaths1(m, n-1, grid, memo) \n",
    "        return memo[key]\n",
    "    def uniquePathsWithObstacles(self, obstacleGrid,):\n",
    "        \"\"\"\n",
    "        :type obstacleGrid: List[List[nint]]\n",
    "        :rtype: int\n",
    "        \"\"\"\n",
    "        obstacleGrid = np.array(obstacleGrid)\n",
    "        rows, cols = obstacleGrid.shape\n",
    "        t= {}\n",
    "        answer= self.uniquepaths1(rows, cols, obstacleGrid, t)\n",
    "        return answer\n"
   ]
  },
  {
   "cell_type": "code",
   "execution_count": null,
   "id": "a3c7d04e-f882-4f06-9ccb-cdb04898abbd",
   "metadata": {},
   "outputs": [],
   "source": []
  }
 ],
 "metadata": {
  "kernelspec": {
   "display_name": "Python 3 (ipykernel)",
   "language": "python",
   "name": "python3"
  },
  "language_info": {
   "codemirror_mode": {
    "name": "ipython",
    "version": 3
   },
   "file_extension": ".py",
   "mimetype": "text/x-python",
   "name": "python",
   "nbconvert_exporter": "python",
   "pygments_lexer": "ipython3",
   "version": "3.10.6"
  }
 },
 "nbformat": 4,
 "nbformat_minor": 5
}
