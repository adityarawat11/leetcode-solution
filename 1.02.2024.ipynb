{
 "cells": [
  {
   "cell_type": "code",
   "execution_count": 9,
   "id": "7cc8702b-6718-4858-95c0-ac65d6284bc7",
   "metadata": {},
   "outputs": [],
   "source": [
    "from typing import List"
   ]
  },
  {
   "cell_type": "code",
   "execution_count": 14,
   "id": "5c82acb0-8a34-44c1-853f-eeb0159af1d4",
   "metadata": {},
   "outputs": [],
   "source": [
    "words = [\"What\",\"must\",\"be\",\"acknowledgment\",\"shall\",\"be\"]\n",
    "maxWidth = 16\n"
   ]
  },
  {
   "cell_type": "code",
   "execution_count": 15,
   "id": "8561f8b6-d5eb-4714-8e46-57ba15e6b911",
   "metadata": {},
   "outputs": [],
   "source": [
    "str_example = \" \".join(words)"
   ]
  },
  {
   "cell_type": "code",
   "execution_count": 17,
   "id": "812b0bd8-c2b8-4ecc-aba0-d4d7859f7ba8",
   "metadata": {},
   "outputs": [
    {
     "data": {
      "text/plain": [
       "['What', 'must', 'be', 'acknowledgment', 'shall', 'be']"
      ]
     },
     "execution_count": 17,
     "metadata": {},
     "output_type": "execute_result"
    }
   ],
   "source": [
    "words"
   ]
  },
  {
   "cell_type": "code",
   "execution_count": 12,
   "id": "537b4c7f-4cf0-4aeb-bb26-32c7b3538986",
   "metadata": {},
   "outputs": [],
   "source": [
    "def fullJustify(words: List[str], maxWidth: int) -> List[str]:\n",
    "        ans = []\n",
    "        i, n = 0, len(words)\n",
    "        while i < n:\n",
    "            t = []\n",
    "            cnt = len(words[i])\n",
    "            t.append(words[i])\n",
    "            i += 1\n",
    "            while i < n and cnt + 1 + len(words[i]) <= maxWidth:\n",
    "                cnt += 1 + len(words[i])\n",
    "                t.append(words[i])\n",
    "                i += 1\n",
    "            if i == n or len(t) == 1:\n",
    "                left = ' '.join(t)\n",
    "                right = ' ' * (maxWidth - len(left))\n",
    "                ans.append(left + right)\n",
    "                continue\n",
    "            space_width = maxWidth - (cnt - len(t) + 1)\n",
    "            w, m = divmod(space_width, len(t) - 1)\n",
    "            row = []\n",
    "            for j, s in enumerate(t[:-1]):\n",
    "                row.append(s)\n",
    "                row.append(' ' * (w + (1 if j < m else 0)))\n",
    "            row.append(t[-1])\n",
    "            ans.append(''.join(row))\n",
    "        return ans"
   ]
  },
  {
   "cell_type": "code",
   "execution_count": 13,
   "id": "4075114b-31e3-4465-86db-0a490279f02c",
   "metadata": {},
   "outputs": [
    {
     "data": {
      "text/plain": [
       "['What   must   be', 'acknowledgment  ', 'shall be        ']"
      ]
     },
     "execution_count": 13,
     "metadata": {},
     "output_type": "execute_result"
    }
   ],
   "source": [
    "fullJustify(words, 16)"
   ]
  },
  {
   "cell_type": "code",
   "execution_count": 16,
   "id": "65c983ad-3bf8-4876-a208-2e6ce7d971e2",
   "metadata": {},
   "outputs": [
    {
     "data": {
      "text/plain": [
       "[None, None]"
      ]
     },
     "execution_count": 16,
     "metadata": {},
     "output_type": "execute_result"
    }
   ],
   "source": [
    "l =[[12], [12]]\n",
    "[ways.insert(0, 1) for ways in l]"
   ]
  },
  {
   "cell_type": "code",
   "execution_count": null,
   "id": "a8458314-3ec6-4838-b8c6-746687024c61",
   "metadata": {},
   "outputs": [],
   "source": []
  },
  {
   "cell_type": "code",
   "execution_count": null,
   "id": "56701381-cc83-4da7-80aa-7951ee7c537f",
   "metadata": {},
   "outputs": [],
   "source": []
  },
  {
   "cell_type": "code",
   "execution_count": null,
   "id": "35e4deba-7944-461a-a568-4ea935194745",
   "metadata": {},
   "outputs": [],
   "source": []
  },
  {
   "cell_type": "code",
   "execution_count": 8,
   "id": "d0b5b818-7955-4c6f-981e-cc79c3c4b446",
   "metadata": {},
   "outputs": [
    {
     "name": "stdout",
     "output_type": "stream",
     "text": [
      "[[0, 1, 2, 3], [0, 4, 5, 6], [0]]\n"
     ]
    }
   ],
   "source": [
    "list_of_lists = [[1, 2, 3], [4, 5, 6], []]\n",
    "\n",
    "for inner_list in list_of_lists:\n",
    "    inner_list.insert(0, 0)\n",
    "\n",
    "print(list_of_lists)"
   ]
  },
  {
   "cell_type": "code",
   "execution_count": 9,
   "id": "2fe656d0-9af9-4c9d-b62a-bd80c1a5df8b",
   "metadata": {},
   "outputs": [],
   "source": [
    "list_of_lists = [[1, 2, 3], [4, 5, 6], [7, 8, 9]]\n",
    "\n",
    "list_of_lists = [[0] + inner_list for inner_list in list_of_lists]"
   ]
  },
  {
   "cell_type": "code",
   "execution_count": 10,
   "id": "676f81a6-9684-4f68-af20-be912e956394",
   "metadata": {},
   "outputs": [
    {
     "data": {
      "text/plain": [
       "[[0, 1, 2, 3], [0, 4, 5, 6], [0, 7, 8, 9]]"
      ]
     },
     "execution_count": 10,
     "metadata": {},
     "output_type": "execute_result"
    }
   ],
   "source": [
    "list_of_lists"
   ]
  },
  {
   "cell_type": "markdown",
   "id": "ddcfc2d8-fcba-47c5-876c-42ef726e656b",
   "metadata": {},
   "source": [
    "### FIBONACCI with Tabulation"
   ]
  },
  {
   "cell_type": "code",
   "execution_count": 34,
   "id": "65409a86-c5ba-460d-889a-a9ecdf4e555b",
   "metadata": {},
   "outputs": [],
   "source": [
    "def fib(n):\n",
    "    table = [0]* (n+1)\n",
    "    table[1] = 1\n",
    "    for i in range(0, n+1):\n",
    "        if i+1<n+1:\n",
    "            table[i+1] += table[i]\n",
    "        if i+2<n+1:\n",
    "            table[i+2] += table[i]\n",
    "    return table[n]"
   ]
  },
  {
   "cell_type": "code",
   "execution_count": 35,
   "id": "c56050d5-9ccc-424a-b563-ac57e91eaaa7",
   "metadata": {},
   "outputs": [
    {
     "data": {
      "text/plain": [
       "12586269025"
      ]
     },
     "execution_count": 35,
     "metadata": {},
     "output_type": "execute_result"
    }
   ],
   "source": [
    "fib(50)"
   ]
  },
  {
   "cell_type": "code",
   "execution_count": 37,
   "id": "a361be2f-f9f8-4828-b298-f597cf4f7f49",
   "metadata": {},
   "outputs": [],
   "source": [
    "import numpy as np"
   ]
  },
  {
   "cell_type": "code",
   "execution_count": 43,
   "id": "c7396539-a6b5-44e9-919a-bf4213fc1919",
   "metadata": {},
   "outputs": [
    {
     "data": {
      "text/plain": [
       "array([[0., 0., 0., 0., 0.],\n",
       "       [0., 0., 0., 0., 0.],\n",
       "       [0., 0., 0., 0., 0.],\n",
       "       [0., 0., 0., 0., 0.]])"
      ]
     },
     "execution_count": 43,
     "metadata": {},
     "output_type": "execute_result"
    }
   ],
   "source": [
    "m = 3\n",
    "n = 4\n",
    "np.zeros((m+1,n+1))"
   ]
  },
  {
   "cell_type": "code",
   "execution_count": null,
   "id": "9425ea47-f730-42f9-adcc-1f570183ad06",
   "metadata": {},
   "outputs": [],
   "source": []
  }
 ],
 "metadata": {
  "kernelspec": {
   "display_name": "Python 3 (ipykernel)",
   "language": "python",
   "name": "python3"
  },
  "language_info": {
   "codemirror_mode": {
    "name": "ipython",
    "version": 3
   },
   "file_extension": ".py",
   "mimetype": "text/x-python",
   "name": "python",
   "nbconvert_exporter": "python",
   "pygments_lexer": "ipython3",
   "version": "3.10.6"
  }
 },
 "nbformat": 4,
 "nbformat_minor": 5
}
