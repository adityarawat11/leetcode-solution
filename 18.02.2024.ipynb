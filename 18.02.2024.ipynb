{
 "cells": [
  {
   "cell_type": "markdown",
   "id": "8b5c1d71-7258-4913-92e9-9b9f509eaffd",
   "metadata": {},
   "source": [
    "Pascal Triangle"
   ]
  },
  {
   "cell_type": "code",
   "execution_count": 5,
   "id": "d29ff188-b068-4dd2-b3bd-beedf48fd3dd",
   "metadata": {},
   "outputs": [],
   "source": [
    "def func(input_list):\n",
    "    output_list = []\n",
    "    for i in range(0, len(input_list)+1):\n",
    "        if i==0:\n",
    "            output_list.append(input_list[i])\n",
    "        elif i < len(input_list):\n",
    "            output_list.append(input_list[i-1]+ input_list[i])\n",
    "        else:\n",
    "            output_list.append(input_list[i-1])\n",
    "    return output_list\n",
    "\n",
    "n = 4\n",
    "final_list = []\n",
    "new_list = []\n",
    "prev_list = []\n",
    "for i in range(1,n+1):\n",
    "    if i == 1:\n",
    "        new_list = [1]\n",
    "    else:\n",
    "        new_list = func(prev_list)\n",
    "    prev_list = new_list\n",
    "    final_list.append(new_list)"
   ]
  },
  {
   "cell_type": "code",
   "execution_count": 17,
   "id": "27806ba7-c7e0-4127-9964-66a169e90f5e",
   "metadata": {},
   "outputs": [
    {
     "data": {
      "text/plain": [
       "[[1], [1, 1], [1, 2, 1], [1, 3, 3, 1]]"
      ]
     },
     "execution_count": 17,
     "metadata": {},
     "output_type": "execute_result"
    }
   ],
   "source": [
    "final_list"
   ]
  },
  {
   "cell_type": "code",
   "execution_count": 40,
   "id": "b1593e98-e51a-4ef8-b615-49d2189b5856",
   "metadata": {},
   "outputs": [
    {
     "name": "stdout",
     "output_type": "stream",
     "text": [
      "[ 4 10 18]\n"
     ]
    }
   ],
   "source": [
    "import numpy as np\n",
    "\n",
    "# create two numpy arrays\n",
    "a = np.array([1, 2, 3])\n",
    "b = np.array([4, 5, 6])\n",
    "\n",
    "# multiply the two arrays element-wise\n",
    "c = a * b\n",
    "\n",
    "# print the result\n",
    "print(c)"
   ]
  },
  {
   "cell_type": "code",
   "execution_count": 41,
   "id": "d03d92b7-d60e-4cbc-a6be-7b0b9e6600c7",
   "metadata": {},
   "outputs": [
    {
     "data": {
      "text/plain": [
       "(3,)"
      ]
     },
     "execution_count": 41,
     "metadata": {},
     "output_type": "execute_result"
    }
   ],
   "source": [
    "a.shape"
   ]
  },
  {
   "cell_type": "code",
   "execution_count": 44,
   "id": "fcb1b4f3-8a73-4952-a31c-6cff40f11315",
   "metadata": {},
   "outputs": [
    {
     "data": {
      "text/plain": [
       "32"
      ]
     },
     "execution_count": 44,
     "metadata": {},
     "output_type": "execute_result"
    }
   ],
   "source": [
    "np.dot(a, b)"
   ]
  },
  {
   "cell_type": "code",
   "execution_count": null,
   "id": "0dd92226-2a24-4cb5-9ada-3182d73b31db",
   "metadata": {},
   "outputs": [],
   "source": [
    "np.dot(a)"
   ]
  },
  {
   "cell_type": "code",
   "execution_count": 35,
   "id": "baea9a81-cc90-4472-8c33-a5af3dea876c",
   "metadata": {},
   "outputs": [
    {
     "name": "stdout",
     "output_type": "stream",
     "text": [
      "[[19 22]\n",
      " [43 50]]\n",
      "[[19 22]\n",
      " [43 50]]\n"
     ]
    }
   ],
   "source": [
    "\n",
    "# create two numpy arrays\n",
    "a = np.array([[1, 2], [3, 4]])\n",
    "b = np.array([[5, 6], [7, 8]])\n",
    "\n",
    "# perform matrix multiplication using dot function\n",
    "c = np.dot(a, b)\n",
    "\n",
    "# perform matrix multiplication using @ operator\n",
    "d = a @ b\n",
    "\n",
    "# print the result\n",
    "print(c)\n",
    "print(d)"
   ]
  },
  {
   "cell_type": "code",
   "execution_count": 45,
   "id": "78ee5a28-301b-43c1-a308-a246ce835736",
   "metadata": {},
   "outputs": [],
   "source": [
    "def estimate_coef(x, y):\n",
    "  # number of observations/points\n",
    "  n = np.size(x)\n",
    " \n",
    "  # mean of x and y vector\n",
    "  m_x = np.mean(x)\n",
    "  m_y = np.mean(y)\n",
    " \n",
    "  # calculating cross-deviation and deviation about x\n",
    "  SS_xy = (x - m_x) @ (y - m_y)\n",
    "  SS_xx = (x - m_x) @ (x - m_x)\n",
    " \n",
    "  # calculating regression coefficients\n",
    "  b_1 = SS_xy / SS_xx\n",
    "  b_0 = m_y - b_1*m_x\n",
    " \n",
    "  return (b_0, b_1)"
   ]
  },
  {
   "cell_type": "code",
   "execution_count": 55,
   "id": "418f426a-fccd-491e-96da-28db817b6a54",
   "metadata": {},
   "outputs": [],
   "source": [
    "\n",
    "\n",
    "def estimate_coef(x, y):\n",
    "  # number of observations/points\n",
    "  n = np.size(x)\n",
    " \n",
    "  # mean of x and y vector\n",
    "  m_x = np.mean(x)\n",
    "  m_y = np.mean(y)\n",
    " \n",
    "  # calculating cross-deviation and deviation about x\n",
    "  SS_xy = np.sum(y*x) - n*m_y*m_x\n",
    "  SS_xx = np.sum(x*x) - n*m_x*m_x\n",
    " \n",
    "  # calculating regression coefficients\n",
    "  b_1 = SS_xy / SS_xx\n",
    "  b_0 = m_y - b_1*m_x\n",
    " \n",
    "  return (b_0, b_1)"
   ]
  },
  {
   "cell_type": "code",
   "execution_count": 56,
   "id": "d10ce59b-6882-49b4-ada4-093a3a1b699c",
   "metadata": {},
   "outputs": [],
   "source": [
    "x = np.array([0, 1, 2, 3, 4, 5, 6, 7, 8, 9])\n",
    "y = np.array([1, 3, 2, 5, 7, 8, 8, 9, 10, 12])\n",
    "# estimating coefficients\n",
    "b = estimate_coef(x, y)"
   ]
  },
  {
   "cell_type": "code",
   "execution_count": 57,
   "id": "e3442a54-c4ae-41a4-9a09-a0bde6642ff1",
   "metadata": {},
   "outputs": [
    {
     "data": {
      "text/plain": [
       "(1.2363636363636363, 1.1696969696969697)"
      ]
     },
     "execution_count": 57,
     "metadata": {},
     "output_type": "execute_result"
    }
   ],
   "source": [
    "b"
   ]
  },
  {
   "cell_type": "code",
   "execution_count": 58,
   "id": "b95f1d67-c1f8-492b-b76d-a5f2e46c1a9e",
   "metadata": {},
   "outputs": [],
   "source": [
    "from matplotlib import pyplot as plt"
   ]
  },
  {
   "cell_type": "code",
   "execution_count": 59,
   "id": "dd126b95-86eb-469e-a718-407345893034",
   "metadata": {},
   "outputs": [],
   "source": [
    "\n",
    "\n",
    "def plot_regression_line(x, y, b):\n",
    "  # plotting the actual points as scatter plot\n",
    "  plt.scatter(x, y, color = \"m\",\n",
    "        marker = \"o\", s = 30)\n",
    " \n",
    "  # predicted response vector\n",
    "  y_pred = b[0] + b[1]*x\n",
    " \n",
    "  # plotting the regression line\n",
    "  plt.plot(x, y_pred, color = \"g\")\n",
    " \n",
    "  # putting labels\n",
    "  plt.xlabel('x')\n",
    "  plt.ylabel('y')"
   ]
  },
  {
   "cell_type": "code",
   "execution_count": 60,
   "id": "8f65dcf7-94fd-44bb-bf83-5f50ceb37bc9",
   "metadata": {},
   "outputs": [
    {
     "data": {
      "image/png": "[encoded data removed]",
      "text/plain": [
       "<Figure size 640x480 with 1 Axes>"
      ]
     },
     "metadata": {},
     "output_type": "display_data"
    }
   ],
   "source": [
    "plot_regression_line(x, y, b)"
   ]
  },
  {
   "cell_type": "code",
   "execution_count": 61,
   "id": "619ef5ec-69f2-42ad-9b9d-578e25e4473a",
   "metadata": {},
   "outputs": [],
   "source": [
    "import sys"
   ]
  },
  {
   "cell_type": "code",
   "execution_count": 64,
   "id": "8036d834-5554-4a00-9371-25a3189ca6ce",
   "metadata": {},
   "outputs": [
    {
     "data": {
      "text/plain": [
       "-9223372036854775807"
      ]
     },
     "execution_count": 64,
     "metadata": {},
     "output_type": "execute_result"
    }
   ],
   "source": [
    "msys.maxsize"
   ]
  },
  {
   "cell_type": "code",
   "execution_count": 84,
   "id": "5240cd9a-2f54-4fdb-9939-d77ac518159d",
   "metadata": {},
   "outputs": [],
   "source": [
    "nums = [3,2,1,0,4]"
   ]
  },
  {
   "cell_type": "code",
   "execution_count": 66,
   "id": "479894eb-b6c7-41bb-b742-756f8e22a1de",
   "metadata": {},
   "outputs": [],
   "source": [
    "import  numpy as np"
   ]
  },
  {
   "cell_type": "code",
   "execution_count": 90,
   "id": "dc9b5055-e333-4cd8-afde-6197e96a4d44",
   "metadata": {},
   "outputs": [
    {
     "ename": "SyntaxError",
     "evalue": "'[' was never closed (2282738471.py, line 12)",
     "output_type": "error",
     "traceback": [
      "\u001b[0;36m  Cell \u001b[0;32mIn[90], line 12\u001b[0;36m\u001b[0m\n\u001b[0;31m    result &= trace[i\u001b[0m\n\u001b[0m                   ^\u001b[0m\n\u001b[0;31mSyntaxError\u001b[0m\u001b[0;31m:\u001b[0m '[' was never closed\n"
     ]
    }
   ],
   "source": [
    "trace = np.array([0]* len(nums))\n",
    "for i,j in enumerate(nums):\n",
    "    temp = nums[i]\n",
    "    k = i\n",
    "    while temp>=0 and k<len(nums):\n",
    "        trace[k] = 1\n",
    "        temp -=1\n",
    "        k +=1\n",
    "\n",
    "    result = trace[0]\n",
    "    for i in range(1, len(trace)):\n",
    "        result &= trace[i\n",
    "    return result\n",
    "    "
   ]
  },
  {
   "cell_type": "code",
   "execution_count": 89,
   "id": "5ef2a9c8-d10d-4fe3-9c40-ce936c03d168",
   "metadata": {},
   "outputs": [
    {
     "ename": "SyntaxError",
     "evalue": "invalid syntax (1621517191.py, line 2)",
     "output_type": "error",
     "traceback": [
      "\u001b[0;36m  Cell \u001b[0;32mIn[89], line 2\u001b[0;36m\u001b[0m\n\u001b[0;31m    a &=i for i in trace\u001b[0m\n\u001b[0m          ^\u001b[0m\n\u001b[0;31mSyntaxError\u001b[0m\u001b[0;31m:\u001b[0m invalid syntax\n"
     ]
    }
   ],
   "source": [
    "a =1     "
   ]
  },
  {
   "cell_type": "code",
   "execution_count": 100,
   "id": "aad2f2f6-eb0c-4347-ab01-d98678781b8c",
   "metadata": {},
   "outputs": [],
   "source": []
  },
  {
   "cell_type": "code",
   "execution_count": 108,
   "id": "fce9007c-b787-43df-97f9-ce85885f36dc",
   "metadata": {},
   "outputs": [
    {
     "data": {
      "text/plain": [
       "3"
      ]
     },
     "execution_count": 108,
     "metadata": {},
     "output_type": "execute_result"
    }
   ],
   "source": [
    "len(nums)- 1"
   ]
  },
  {
   "cell_type": "code",
   "execution_count": 109,
   "id": "9130def6-3a96-4ab2-b7d7-b582a0b603eb",
   "metadata": {},
   "outputs": [
    {
     "name": "stdout",
     "output_type": "stream",
     "text": [
      "[1 1 0]\n"
     ]
    },
    {
     "ename": "IndexError",
     "evalue": "index 3 is out of bounds for axis 0 with size 3",
     "output_type": "error",
     "traceback": [
      "\u001b[0;31m---------------------------------------------------------------------------\u001b[0m",
      "\u001b[0;31mIndexError\u001b[0m                                Traceback (most recent call last)",
      "Cell \u001b[0;32mIn[109], line 9\u001b[0m\n\u001b[1;32m      7\u001b[0m \u001b[38;5;28;01mif\u001b[39;00m temp\u001b[38;5;241m>\u001b[39m\u001b[38;5;241m0\u001b[39m:\n\u001b[1;32m      8\u001b[0m     \u001b[38;5;28;01mwhile\u001b[39;00m temp\u001b[38;5;241m+\u001b[39m\u001b[38;5;241m1\u001b[39m\u001b[38;5;241m>\u001b[39m\u001b[38;5;241m0\u001b[39m \u001b[38;5;129;01mand\u001b[39;00m k\u001b[38;5;241m<\u001b[39m\u001b[38;5;28mlen\u001b[39m(nums):\n\u001b[0;32m----> 9\u001b[0m         \u001b[43mtrace\u001b[49m\u001b[43m[\u001b[49m\u001b[43mk\u001b[49m\u001b[43m]\u001b[49m \u001b[38;5;241m=\u001b[39m \u001b[38;5;241m1\u001b[39m\n\u001b[1;32m     10\u001b[0m         temp \u001b[38;5;241m-\u001b[39m\u001b[38;5;241m=\u001b[39m\u001b[38;5;241m1\u001b[39m\n\u001b[1;32m     11\u001b[0m         k \u001b[38;5;241m+\u001b[39m\u001b[38;5;241m=\u001b[39m\u001b[38;5;241m1\u001b[39m\n",
      "\u001b[0;31mIndexError\u001b[0m: index 3 is out of bounds for axis 0 with size 3"
     ]
    }
   ],
   "source": [
    "nums = [1,0,1,0]\n",
    "trace = np.array([0]* (len(nums)- 1))\n",
    "\n",
    "for i in range(0, len(nums)-1):\n",
    "    temp = nums[i]\n",
    "    k = i\n",
    "    if temp>0:\n",
    "        while temp+1>0 and k<len(nums):\n",
    "            trace[k] = 1\n",
    "            temp -=1\n",
    "            k +=1\n",
    "        print(trace)"
   ]
  },
  {
   "cell_type": "code",
   "execution_count": 110,
   "id": "11148d2d-1676-41bc-adde-16bbeef1bbcd",
   "metadata": {},
   "outputs": [],
   "source": [
    "l = [1]"
   ]
  },
  {
   "cell_type": "code",
   "execution_count": 112,
   "id": "f4d0e093-690f-4409-8dcf-c8aae3c4d670",
   "metadata": {},
   "outputs": [
    {
     "data": {
      "text/plain": [
       "1"
      ]
     },
     "execution_count": 112,
     "metadata": {},
     "output_type": "execute_result"
    }
   ],
   "source": [
    "l[0]"
   ]
  },
  {
   "cell_type": "markdown",
   "id": "da5b07e4-81c4-48ad-9c02-acb5371e63b6",
   "metadata": {},
   "source": [
    "### Maximum Subarray"
   ]
  },
  {
   "cell_type": "code",
   "execution_count": 115,
   "id": "f0165436-8afb-4a1a-af04-6b4be86006dc",
   "metadata": {},
   "outputs": [],
   "source": [
    "from typing import List"
   ]
  },
  {
   "cell_type": "code",
   "execution_count": 118,
   "id": "635bcf05-6053-4e75-aecd-0835b9e9984d",
   "metadata": {},
   "outputs": [],
   "source": [
    "def maxSubArray(nums: List[int]) -> int:\n",
    "    max_sum = [0 for _ in range(len(nums))]\n",
    "\n",
    "    max_sum[0] = nums[0]\n",
    "\n",
    "    for i in range(1, len(nums)):\n",
    "        max_sum[i] = max(max_sum[i - 1] + nums[i], nums[i])\n",
    "\n",
    "    return max(max_sum)"
   ]
  },
  {
   "cell_type": "code",
   "execution_count": 119,
   "id": "c9b1d960-8a1f-4e47-9484-bb9b3ffe4d95",
   "metadata": {},
   "outputs": [
    {
     "data": {
      "text/plain": [
       "8"
      ]
     },
     "execution_count": 119,
     "metadata": {},
     "output_type": "execute_result"
    }
   ],
   "source": [
    "maxSubArray( [1, 2, 5, -7, 2, 3])"
   ]
  },
  {
   "cell_type": "code",
   "execution_count": 122,
   "id": "cb8d7997-7ea5-44d7-90fd-c7b0ff5997d4",
   "metadata": {},
   "outputs": [
    {
     "data": {
      "text/plain": [
       "-1"
      ]
     },
     "execution_count": 122,
     "metadata": {},
     "output_type": "execute_result"
    }
   ],
   "source": [
    "maxSubArray( [-1, -2, -5, -7, -2, -3])"
   ]
  },
  {
   "cell_type": "code",
   "execution_count": 123,
   "id": "6fbea203-6b8b-4747-8f6b-caab44a17a3d",
   "metadata": {},
   "outputs": [],
   "source": [
    "import heapq\n"
   ]
  },
  {
   "cell_type": "code",
   "execution_count": 134,
   "id": "6d240baf-7f38-4f80-8c8d-9e95c98764ff",
   "metadata": {},
   "outputs": [],
   "source": [
    "def count(nums, mid):\n",
    "    cnt = 0\n",
    "    for i in range(len(nums)):\n",
    "        if nums[i] <= mid:\n",
    "            cnt += 1\n",
    "    return cnt\n",
    " \n",
    "def kthSmallest(nums, k):\n",
    "    \n",
    "    low = sys.maxsize\n",
    "    high = -sys.maxsize - 1\n",
    " \n",
    "    # calculate minimum and maximum the array.\n",
    "    for i in range(len(nums)):\n",
    "        low = min(low, nums[i])\n",
    "        high = max(high, nums[i])\n",
    " \n",
    "        # Our answer range lies between minimum and maximum element\n",
    "        # of the array on which Binary Search is Applied\n",
    "    while low < high:\n",
    "        print(\"low: \", low)\n",
    "        print(\"high: \", high)\n",
    "        mid = low + (high - low) // 2\n",
    "        print(\"mid: \", mid)\n",
    "        \n",
    "        # if the count of number of elements in the array less than equal\n",
    "        # to mid is less than k then increase the number. Otherwise decrement\n",
    "        # the number and try to find a better answer.\n",
    "        if count(nums, mid) < k:\n",
    "            low = mid + 1\n",
    "        else:\n",
    "            high = mid\n",
    "    return low\n",
    " "
   ]
  },
  {
   "cell_type": "code",
   "execution_count": 169,
   "id": "acaee98c-a3bc-4a23-ab5f-aecb19c3b631",
   "metadata": {},
   "outputs": [],
   "source": [
    "def count(nums, mid):\n",
    "    cnt = 0\n",
    "    for i in range(len(nums)):\n",
    "        if nums[i] > mid:\n",
    "            cnt += 1\n",
    "    return cnt\n",
    " \n",
    "def kthlargest(nums, k):\n",
    "    \n",
    "    low = sys.maxsize\n",
    "    high = -sys.maxsize - 1\n",
    "    # calculate minimum and maximum the array.\n",
    "    for i in range(len(nums)):\n",
    "        low = min(low, nums[i])\n",
    "        high = max(high, nums[i])\n",
    "\n",
    "        # Our answer range lies between minimum and maximum element\n",
    "        # of the array on which Binary Search is Applied\n",
    "    while low < high:\n",
    "        # print(\"low: \", low)\n",
    "        # print(\"high: \", high)\n",
    "        mid = low + (high - low) // 2\n",
    "        print(\"mid: \", mid)\n",
    "        \n",
    "        # if the count of number of elements in the array less than equal\n",
    "        # to mid is less than k then increase the number. Otherwise decrement\n",
    "        # the number and try to find a better answer.\n",
    "        if count(nums, mid) > k:\n",
    "            low = mid+1\n",
    "        else:\n",
    "            high= mid-1\n",
    "    return high\n",
    " "
   ]
  },
  {
   "cell_type": "code",
   "execution_count": 172,
   "id": "0aa793a1-028d-4f11-b05f-36078dee8302",
   "metadata": {},
   "outputs": [],
   "source": [
    "def findKthLargest(arr, k):\n",
    "    low = float('inf')\n",
    "    high = float('-inf')\n",
    " \n",
    "    # Find the minimum and maximum elements in the array\n",
    "    for i in range(n):\n",
    "        low = min(low, arr[i])\n",
    "        high = max(high, arr[i])\n",
    " \n",
    "    # Perform binary search on the range of elements between low and high\n",
    "    while low <= high:\n",
    "        mid = low + (high - low) // 2\n",
    "        count = 0\n",
    " \n",
    "        # Count the number of elements greater than mid in the array\n",
    "        for i in range(n):\n",
    "            if arr[i] > mid:\n",
    "                count += 1\n",
    " \n",
    "        # If there are at least K elements greater than mid, search the right half\n",
    "        if count >= k:\n",
    "            low = mid + 1\n",
    "        # Otherwise, search the left half\n",
    "        else:\n",
    "            high = mid - 1\n",
    " \n",
    "    # Return the Kth largest element\n",
    "    return high"
   ]
  },
  {
   "cell_type": "code",
   "execution_count": 174,
   "id": "4237046c-0fc7-413b-9905-9c83c01e7e2a",
   "metadata": {},
   "outputs": [
    {
     "data": {
      "text/plain": [
       "55"
      ]
     },
     "execution_count": 174,
     "metadata": {},
     "output_type": "execute_result"
    }
   ],
   "source": [
    "findKthLargest([1,2,3,56,12,345,23], 1)"
   ]
  },
  {
   "cell_type": "markdown",
   "id": "4b25ba7c-5747-45ae-96df-aace6848dcdc",
   "metadata": {},
   "source": [
    "Group Anagrams"
   ]
  },
  {
   "cell_type": "code",
   "execution_count": 177,
   "id": "8ad473e0-e168-4bca-837e-7f4edeb37add",
   "metadata": {},
   "outputs": [],
   "source": [
    "input = [\"eat\",\"tea\",\"tan\",\"ate\",\"nat\",\"bat\"]\n",
    "output =  [[\"bat\"],[\"nat\",\"tan\"],[\"ate\",\"eat\",\"tea\"]]"
   ]
  },
  {
   "cell_type": "code",
   "execution_count": 193,
   "id": "d1173a8b-128f-445b-a5f2-ecf5188e56a8",
   "metadata": {},
   "outputs": [
    {
     "name": "stdout",
     "output_type": "stream",
     "text": [
      "['eat', 'ate', 'nat']\n",
      "['eat', 'ate', 'nat']\n",
      "['ate']\n",
      "['eat', 'ate', 'nat']\n",
      "['ate']\n",
      "['ate']\n"
     ]
    }
   ],
   "source": [
    "# output  = []\n",
    "# for i in input:\n",
    "#     l = []\n",
    "#     x = 0\n",
    "#     numeric_l1 = [ord(letter) for letter in i]\n",
    "#     for j in input:\n",
    "#         numeric_l2 = [ord(letter) for letter in j]\n",
    "#         numeric_l1.extend(numeric_l2)\n",
    "#         for k in numeric_l1:\n",
    "#             x ^= k\n",
    "#         if x==0:\n",
    "#             l.append(j)"
   ]
  },
  {
   "cell_type": "code",
   "execution_count": 198,
   "id": "76ba2bd4-ba0f-472a-bebb-10b45ba87732",
   "metadata": {},
   "outputs": [],
   "source": [
    "temp = [\"\".join(sorted(word.lower())) for word in input]\n"
   ]
  },
  {
   "cell_type": "code",
   "execution_count": 202,
   "id": "7fe827f0-6cf0-40a2-aa68-11165765d103",
   "metadata": {},
   "outputs": [],
   "source": [
    "a = None\n",
    "b = 1"
   ]
  },
  {
   "cell_type": "code",
   "execution_count": 204,
   "id": "b6a05165-3a55-4b83-8f2b-6fa3be12d8a3",
   "metadata": {},
   "outputs": [],
   "source": [
    "if a is b:\n",
    "    print(\"yes\")"
   ]
  },
  {
   "cell_type": "code",
   "execution_count": 201,
   "id": "3c45e3a1-5851-4909-9db9-8e718026024d",
   "metadata": {},
   "outputs": [
    {
     "name": "stdout",
     "output_type": "stream",
     "text": [
      "yes\n"
     ]
    }
   ],
   "source": [
    "if not a:\n",
    "    print(\"yes\")"
   ]
  },
  {
   "cell_type": "markdown",
   "id": "a5d446eb-f921-4c52-ad9b-b58aaec19da4",
   "metadata": {},
   "source": [
    "## valid soduko"
   ]
  },
  {
   "cell_type": "code",
   "execution_count": 212,
   "id": "f25e6ef6-18bf-4317-ba51-d3d2214ac4ca",
   "metadata": {},
   "outputs": [],
   "source": [
    "from collections import counter\n",
    "import numpy as np"
   ]
  },
  {
   "cell_type": "code",
   "execution_count": 206,
   "id": "db5739c1-071e-4ea6-aa47-443dbced4152",
   "metadata": {},
   "outputs": [],
   "source": [
    "board =  [[\"5\",\"3\",\".\",\".\",\"7\",\".\",\".\",\".\",\".\"]\n",
    ",[\"6\",\".\",\".\",\"1\",\"9\",\"5\",\".\",\".\",\".\"]\n",
    ",[\".\",\"9\",\"8\",\".\",\".\",\".\",\".\",\"6\",\".\"]\n",
    ",[\"8\",\".\",\".\",\".\",\"6\",\".\",\".\",\".\",\"3\"]\n",
    ",[\"4\",\".\",\".\",\"8\",\".\",\"3\",\".\",\".\",\"1\"]\n",
    ",[\"7\",\".\",\".\",\".\",\"2\",\".\",\".\",\".\",\"6\"]\n",
    ",[\".\",\"6\",\".\",\".\",\".\",\".\",\"2\",\"8\",\".\"]\n",
    ",[\".\",\".\",\".\",\"4\",\"1\",\"9\",\".\",\".\",\"5\"]\n",
    ",[\".\",\".,\".\",\".\",\"8\",\".\",\".\",\"7\",\"9\"]]"
   ]
  },
  {
   "cell_type": "code",
   "execution_count": 213,
   "id": "7274802f-48ca-4830-9b42-99e5dfaa096c",
   "metadata": {},
   "outputs": [],
   "source": [
    "board = np.array([[0 if cell == \".\" else int(cell)  for cell in row ]for row in board])"
   ]
  },
  {
   "cell_type": "code",
   "execution_count": 214,
   "id": "e7ac67f8-eda8-4e3b-9b50-f616d518db11",
   "metadata": {},
   "outputs": [
    {
     "data": {
      "text/plain": [
       "array([[5, 3, 0, 0, 7, 0, 0, 0, 0],\n",
       "       [6, 0, 0, 1, 9, 5, 0, 0, 0],\n",
       "       [0, 9, 8, 0, 0, 0, 0, 6, 0],\n",
       "       [8, 0, 0, 0, 6, 0, 0, 0, 3],\n",
       "       [4, 0, 0, 8, 0, 3, 0, 0, 1],\n",
       "       [7, 0, 0, 0, 2, 0, 0, 0, 6],\n",
       "       [0, 6, 0, 0, 0, 0, 2, 8, 0],\n",
       "       [0, 0, 0, 4, 1, 9, 0, 0, 5],\n",
       "       [0, 0, 0, 0, 8, 0, 0, 7, 9]])"
      ]
     },
     "execution_count": 214,
     "metadata": {},
     "output_type": "execute_result"
    }
   ],
   "source": [
    "for "
   ]
  },
  {
   "cell_type": "code",
   "execution_count": 232,
   "id": "5b1ed6e9-1e2b-4c02-98d7-7dd8a07c046f",
   "metadata": {},
   "outputs": [],
   "source": [
    " def twoSum(nums, target):\n",
    "        \"\"\"\n",
    "        :type nums: List[int]\n",
    "        :type target: int\n",
    "        :rtype: List[int]\n",
    "        \"\"\"\n",
    "        for i in range(0, len(nums)):\n",
    "            print(\"ssds\", i)\n",
    "            first_index = i\n",
    "            new_target = target - nums[first_index]\n",
    "            print(new_target)\n",
    "            for j in range(i+1, len(nums)):\n",
    "                print(nums[j])\n",
    "                if nums[j] == new_target:\n",
    "                    second_index=j\n",
    "                    return [first_index, second_index]\n",
    "                    "
   ]
  },
  {
   "cell_type": "code",
   "execution_count": 235,
   "id": "72e8a968-1888-492a-a266-6f02dccf80db",
   "metadata": {},
   "outputs": [
    {
     "data": {
      "text/plain": [
       "0"
      ]
     },
     "execution_count": 235,
     "metadata": {},
     "output_type": "execute_result"
    }
   ],
   "source": [
    "sum  = 1\n",
    "sum // 10"
   ]
  },
  {
   "cell_type": "code",
   "execution_count": 233,
   "id": "b3040252-760e-4411-833a-36ba3940208b",
   "metadata": {},
   "outputs": [
    {
     "name": "stdout",
     "output_type": "stream",
     "text": [
      "ssds 0\n",
      "3\n",
      "2\n",
      "4\n",
      "ssds 1\n",
      "4\n",
      "4\n",
      "[1, 2]\n"
     ]
    }
   ],
   "source": [
    "print(twoSum([3,2,4], 6 ))"
   ]
  },
  {
   "cell_type": "code",
   "execution_count": 242,
   "id": "6db9976a-0f3d-4501-be28-6fc7a1c5dad9",
   "metadata": {},
   "outputs": [],
   "source": [
    "def recursive(n, memo = {}):\n",
    "    if n==0:\n",
    "        return 0\n",
    "    recursive(n-1, memo)\n",
    "    if n == 6:\n",
    "        memo[6] = \"lets goo\"\n",
    "    if n == 7:\n",
    "        print(memo)"
   ]
  },
  {
   "cell_type": "code",
   "execution_count": 243,
   "id": "cddb79bd-11f3-4b14-8596-10bb7a85fbee",
   "metadata": {},
   "outputs": [
    {
     "name": "stdout",
     "output_type": "stream",
     "text": [
      "{6: 'lets goo'}\n"
     ]
    }
   ],
   "source": [
    "recursive(8)"
   ]
  },
  {
   "cell_type": "code",
   "execution_count": 245,
   "id": "52f16f49-dbc7-4a12-8f96-d0e3d9951ffa",
   "metadata": {},
   "outputs": [
    {
     "data": {
      "text/plain": [
       "[9, 9, 9, 9]"
      ]
     },
     "execution_count": 245,
     "metadata": {},
     "output_type": "execute_result"
    }
   ],
   "source": [
    "[9] *4"
   ]
  },
  {
   "cell_type": "code",
   "execution_count": 248,
   "id": "d8a1d646-a141-4ff8-8880-d5606b66e89e",
   "metadata": {},
   "outputs": [],
   "source": [
    "s = s.replace(\"----separator----\", \"\\n\")"
   ]
  },
  {
   "cell_type": "code",
   "execution_count": 252,
   "id": "45a7eaa8-fc20-4107-904d-2712910bfd2b",
   "metadata": {},
   "outputs": [],
   "source": [
    "with open(\"uk_faq.txt\", \"w+\") as f:\n",
    "    f.write(s)\n",
    "    f.close()"
   ]
  },
  {
   "cell_type": "code",
   "execution_count": null,
   "id": "50d9680a-7e79-4434-a3e6-b19b64b1c213",
   "metadata": {},
   "outputs": [],
   "source": []
  }
 ],
 "metadata": {
  "kernelspec": {
   "display_name": "Python 3 (ipykernel)",
   "language": "python",
   "name": "python3"
  },
  "language_info": {
   "codemirror_mode": {
    "name": "ipython",
    "version": 3
   },
   "file_extension": ".py",
   "mimetype": "text/x-python",
   "name": "python",
   "nbconvert_exporter": "python",
   "pygments_lexer": "ipython3",
   "version": "3.10.6"
  }
 },
 "nbformat": 4,
 "nbformat_minor": 5
}
