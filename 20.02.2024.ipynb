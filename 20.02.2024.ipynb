{
 "cells": [
  {
   "cell_type": "markdown",
   "id": "d744e1e1-2ee9-49fb-8431-cc2bf4db93e5",
   "metadata": {},
   "source": [
    "### Gas Station"
   ]
  },
  {
   "cell_type": "code",
   "execution_count": 2,
   "id": "3f731d57-2792-404a-a6de-0f7a929f1645",
   "metadata": {},
   "outputs": [],
   "source": [
    "import numpy as np"
   ]
  },
  {
   "cell_type": "code",
   "execution_count": 8,
   "id": "fd0d0406-4d7d-4947-a898-90c916edb1ad",
   "metadata": {},
   "outputs": [],
   "source": [
    "gas = np.array([1,2,3,4,5])\n",
    "cost = np.array([3,4,5,1,2])\n"
   ]
  },
  {
   "cell_type": "code",
   "execution_count": 7,
   "id": "f81e67ff-d40f-46d3-a88f-0ce166e464e6",
   "metadata": {},
   "outputs": [
    {
     "data": {
      "text/plain": [
       "0"
      ]
     },
     "execution_count": 7,
     "metadata": {},
     "output_type": "execute_result"
    }
   ],
   "source": [
    "def func(gas, cost):\n",
    "    "
   ]
  },
  {
   "cell_type": "code",
   "execution_count": 31,
   "id": "ea92b99b-6b4f-4958-9563-8cb1b86b7bef",
   "metadata": {},
   "outputs": [],
   "source": [
    "gas = [5,1,2,3,4]\n",
    "cost = [4,4,1,5,1]\n"
   ]
  },
  {
   "cell_type": "code",
   "execution_count": 35,
   "id": "df41ab0d-f051-4d28-a458-b0532cf2ff29",
   "metadata": {},
   "outputs": [
    {
     "name": "stdout",
     "output_type": "stream",
     "text": [
      "{}\n",
      "0\n",
      "remainder_gas:  1\n",
      "{0: True}\n",
      "1\n",
      "remainder_gas:  -2\n",
      "{0: True, 1: False}\n",
      "2\n",
      "remainder_gas:  1\n",
      "{0: True, 1: False, 2: True}\n",
      "3\n",
      "remainder_gas:  -1\n",
      "{0: True, 1: False, 2: True, 3: False}\n",
      "4\n",
      "remainder_gas:  3\n",
      "{0: True, 1: False, 2: True, 3: False, 4: True}\n",
      "0\n",
      "remainder_gas:  4\n",
      "yo:  0\n"
     ]
    }
   ],
   "source": [
    "hashmap= {}\n",
    "\n",
    "i = 0\n",
    "remainder_gas = 0 \n",
    "count1 = 0\n",
    "while True:\n",
    "    print(hashmap)\n",
    "    if i==len(gas):\n",
    "        i = 0\n",
    "    print(i)\n",
    "    count1 +=1\n",
    "    if count1> 20:\n",
    "        break\n",
    "    remainder_gas += gas[i]- cost[i]\n",
    "    print(\"remainder_gas: \", remainder_gas)\n",
    "    if remainder_gas<0:\n",
    "        remainder_gas= 0\n",
    "        if i in hashmap:\n",
    "            print(\"meh\")\n",
    "            break\n",
    "        else:\n",
    "            hashmap[i] = False\n",
    "    else:\n",
    "        if i not in hashmap:\n",
    "            hashmap[i] = True\n",
    "        else: \n",
    "            if hashmap[i] == False:\n",
    "                hashmap[i] = True\n",
    "            else:\n",
    "                print(\"yo: \", i)\n",
    "                break\n",
    "    i+=1"
   ]
  },
  {
   "cell_type": "markdown",
   "id": "0e0429fc-a314-4476-9e2c-12d737f03428",
   "metadata": {},
   "source": [
    "Roman to integer"
   ]
  },
  {
   "cell_type": "code",
   "execution_count": 36,
   "id": "b3f31f50-a1ef-4aa0-9cc2-4a309eeb7d15",
   "metadata": {},
   "outputs": [],
   "source": [
    "hashmap = {\n",
    "\"I\"      :       1,\n",
    "\"V\"     :       5,\n",
    "\"X\"    :         10,\n",
    "\"L\"   :          50,\n",
    "\"C\"  :           100,\n",
    "\"D\" :            500,\n",
    "\"M\":             1000,\n",
    "}\n"
   ]
  },
  {
   "cell_type": "code",
   "execution_count": 37,
   "id": "f1613aa3-b864-423a-98ef-692d24ee6c82",
   "metadata": {},
   "outputs": [],
   "source": [
    "class Solution(object):\n",
    "    \n",
    "    def romanToInt(self, s):\n",
    "        \"\"\"\n",
    "        :type s: str\n",
    "        :rtype: int\n",
    "        \"\"\"\n",
    "        hashmap = {\n",
    "        \"I\"      :       1,\n",
    "        \"V\"     :       5,\n",
    "        \"X\"    :         10,\n",
    "        \"L\"   :          50,\n",
    "        \"C\"  :           100,\n",
    "        \"D\" :            500,\n",
    "        \"M\":             1000,\n",
    "        }\n",
    "        sum = 0\n",
    "        i = 0\n",
    "        while i < len(s):\n",
    "            if i+1 < len(s) and hashmap[s[i]] < hashmap[s[i+1]] :\n",
    "                sum += hashmap[s[i+1]] - hashmap[s[i]]\n",
    "                i += 2\n",
    "            else:\n",
    "                sum += hashmap[s[i]]\n",
    "                i +=1\n",
    "        return sum"
   ]
  },
  {
   "cell_type": "code",
   "execution_count": null,
   "id": "5fbe5ec8-ab9a-4d8a-97c5-e0cdb6b008cb",
   "metadata": {},
   "outputs": [],
   "source": []
  }
 ],
 "metadata": {
  "kernelspec": {
   "display_name": "Python 3 (ipykernel)",
   "language": "python",
   "name": "python3"
  },
  "language_info": {
   "codemirror_mode": {
    "name": "ipython",
    "version": 3
   },
   "file_extension": ".py",
   "mimetype": "text/x-python",
   "name": "python",
   "nbconvert_exporter": "python",
   "pygments_lexer": "ipython3",
   "version": "3.10.6"
  }
 },
 "nbformat": 4,
 "nbformat_minor": 5
}
